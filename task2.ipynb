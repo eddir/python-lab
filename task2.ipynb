{
 "cells": [
  {
   "cell_type": "code",
   "id": "initial_id",
   "metadata": {
    "collapsed": true,
    "ExecuteTime": {
     "end_time": "2024-10-01T19:50:09.411152Z",
     "start_time": "2024-10-01T19:50:09.388269Z"
    }
   },
   "source": [
    "# Дана переменная, в которой хранится четырёхзначное число (год). Нужно написать программу, которая выведет, является этот год високосным или обычным.\n",
    "year = 2020\n",
    "if year % 4 == 0 and year % 100 != 0 or year % 400 == 0:\n",
    "    print('Високосный год')\n",
    "else:\n",
    "    print('Обычный год')"
   ],
   "outputs": [
    {
     "name": "stdout",
     "output_type": "stream",
     "text": [
      "Високосный год\n"
     ]
    }
   ],
   "execution_count": 4
  },
  {
   "metadata": {},
   "cell_type": "code",
   "outputs": [],
   "execution_count": null,
   "source": [
    "# Дана переменная, в которой хранится шестизначное число (номер проездного билета). Напишите программу, которая будет определять, является ли этот билет счастливым. Билет считается счастливым, если сумма первых трёх цифр совпадает с суммой последних трёх цифр номера.\n",
    "number = 123321\n",
    "if number // 100000 + number // 10000 % 10 + number // 1000 % 10 == number // 100 % 10 + number // 10 % 10 + number % 10:\n",
    "    print('Счастливый билет')\n",
    "else:\n",
    "    print('Обычный билет')"
   ],
   "id": "a0aa8e0168f851b5"
  }
 ],
 "metadata": {
  "kernelspec": {
   "display_name": "Python 3",
   "language": "python",
   "name": "python3"
  },
  "language_info": {
   "codemirror_mode": {
    "name": "ipython",
    "version": 2
   },
   "file_extension": ".py",
   "mimetype": "text/x-python",
   "name": "python",
   "nbconvert_exporter": "python",
   "pygments_lexer": "ipython2",
   "version": "2.7.6"
  }
 },
 "nbformat": 4,
 "nbformat_minor": 5
}
