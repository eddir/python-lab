{
 "cells": [
  {
   "cell_type": "code",
   "id": "initial_id",
   "metadata": {
    "collapsed": true,
    "ExecuteTime": {
     "end_time": "2024-12-18T20:52:18.979888Z",
     "start_time": "2024-12-18T20:52:18.964253Z"
    }
   },
   "source": [
    "import random\n",
    "\n",
    "def automat():\n",
    "    value = random.randint(0, 999)\n",
    "    if value == 777:\n",
    "        return 200\n",
    "    elif value == 999:\n",
    "        return 100\n",
    "    elif value == 555:\n",
    "        return 50\n",
    "    elif value == 333:\n",
    "        return 15\n",
    "    elif value == 111:\n",
    "        return 10\n",
    "    elif value % 100 == 77:\n",
    "        return 5\n",
    "    elif value % 10 == 7:\n",
    "        return 3\n",
    "    elif value % 100 == 0:\n",
    "        return 2\n",
    "    elif value % 10 == 0:\n",
    "        return 1\n",
    "    else:\n",
    "        return 0"
   ],
   "outputs": [],
   "execution_count": 4
  },
  {
   "metadata": {
    "ExecuteTime": {
     "end_time": "2024-12-18T20:56:16.371029Z",
     "start_time": "2024-12-18T20:56:16.355398Z"
    }
   },
   "cell_type": "code",
   "source": "automat()",
   "id": "c40bacdeeabb071b",
   "outputs": [
    {
     "data": {
      "text/plain": [
       "3"
      ]
     },
     "execution_count": 73,
     "metadata": {},
     "output_type": "execute_result"
    }
   ],
   "execution_count": 73
  },
  {
   "metadata": {},
   "cell_type": "markdown",
   "source": "### Сколько в среднем приобретает или теряет игрок за одну игру?",
   "id": "efc73ba2d7f9d5f0"
  },
  {
   "metadata": {
    "ExecuteTime": {
     "end_time": "2024-12-18T20:54:13.030433Z",
     "start_time": "2024-12-18T20:54:11.469175Z"
    }
   },
   "cell_type": "code",
   "source": [
    "balance = 100\n",
    "n = 1000000\n",
    "for i in range(n):\n",
    "    balance -= 1\n",
    "    balance += automat()\n",
    "    \n",
    "balance /= n\n",
    "balance"
   ],
   "id": "9b0fefdc8ec4d15f",
   "outputs": [
    {
     "data": {
      "text/plain": [
       "-0.197237"
      ]
     },
     "execution_count": 22,
     "metadata": {},
     "output_type": "execute_result"
    }
   ],
   "execution_count": 22
  },
  {
   "metadata": {},
   "cell_type": "markdown",
   "source": [
    "### Вывод\n",
    "Игра не выгодна, так как в среднем игрок теряет 0.2 рубля за одну игру."
   ],
   "id": "c39e328e6523a28d"
  }
 ],
 "metadata": {
  "kernelspec": {
   "display_name": "Python 3",
   "language": "python",
   "name": "python3"
  },
  "language_info": {
   "codemirror_mode": {
    "name": "ipython",
    "version": 2
   },
   "file_extension": ".py",
   "mimetype": "text/x-python",
   "name": "python",
   "nbconvert_exporter": "python",
   "pygments_lexer": "ipython2",
   "version": "2.7.6"
  }
 },
 "nbformat": 4,
 "nbformat_minor": 5
}
