{
 "cells": [
  {
   "metadata": {},
   "cell_type": "markdown",
   "source": "# 1. Базовое изучение",
   "id": "8b3315adedf57734"
  },
  {
   "metadata": {
    "ExecuteTime": {
     "end_time": "2024-12-18T20:45:20.647777Z",
     "start_time": "2024-12-18T20:45:20.618528Z"
    }
   },
   "cell_type": "code",
   "source": [
    "import pandas as pd\n",
    "\n",
    "columns = [\n",
    "    \"surgery\", \"age\", \"hospital_number\", \"rectal_temp\", \"pulse\", \"respiratory_rate\",\n",
    "    \"extrem_temp\", \"peripheral_pulse\", \"mucous_membranes\", \"capillary_refill_time\",\n",
    "    \"pain\", \"peristalsis\", \"abd_distension\", \"nasogastric_tube\", \"nasogastric_reflux\",\n",
    "    \"nasogastric_reflux_ph\", \"rectal_exam_feces\", \"abdomen\", \"packed_cell_volume\",\n",
    "    \"total_protein\", \"abd_centesis_appearance\", \"abd_centesis_total_protein\", \"outcome\",\n",
    "    \"surgical_lesion\", \"lesion_type_1\", \"lesion_type_2\", \"lesion_type_3\", \"cp_data\"\n",
    "]\n",
    "\n",
    "# Путь к данным\n",
    "data_path = \"./task8/horse_data.csv\"\n",
    "\n",
    "train_data = pd.read_csv(data_path, header=None, names=columns, na_values=\"?\")\n",
    "\n",
    "data = pd.concat([train_data], ignore_index=True)\n",
    "\n",
    "selected_columns = [\n",
    "    \"rectal_temp\", \"pulse\", \"respiratory_rate\", \"packed_cell_volume\",  # Числовые\n",
    "    \"surgery\", \"age\", \"pain\", \"outcome\"  # Категориальные\n",
    "]\n",
    "\n",
    "subset = data[selected_columns]"
   ],
   "id": "827c8005064e8c5b",
   "outputs": [],
   "execution_count": 32
  },
  {
   "metadata": {},
   "cell_type": "markdown",
   "source": "## Числовые",
   "id": "2f0adc236134d26f"
  },
  {
   "metadata": {
    "ExecuteTime": {
     "end_time": "2024-12-18T20:45:20.723503Z",
     "start_time": "2024-12-18T20:45:20.666481Z"
    }
   },
   "cell_type": "code",
   "source": [
    "stats_numeric = subset[[\"rectal_temp\", \"pulse\", \"respiratory_rate\", \"packed_cell_volume\"]].describe().T\n",
    "stats_numeric['median'] = subset[[\"rectal_temp\", \"pulse\", \"respiratory_rate\", \"packed_cell_volume\"]].median()\n",
    "stats_numeric['mode'] = subset[[\"rectal_temp\", \"pulse\", \"respiratory_rate\", \"packed_cell_volume\"]].mode().iloc[0]\n",
    "stats_numeric"
   ],
   "id": "f00e763b3e313100",
   "outputs": [
    {
     "data": {
      "text/plain": [
       "                    count       mean        std   min   25%   50%   75%  \\\n",
       "rectal_temp         240.0  38.167917   0.732289  35.4  37.8  38.2  38.5   \n",
       "pulse               276.0  71.913043  28.630557  30.0  48.0  64.0  88.0   \n",
       "respiratory_rate    242.0  30.417355  17.642231   8.0  18.5  24.5  36.0   \n",
       "packed_cell_volume  271.0  46.295203  10.419335  23.0  38.0  45.0  52.0   \n",
       "\n",
       "                      max  median  mode  \n",
       "rectal_temp          40.8    38.2  38.0  \n",
       "pulse               184.0    64.0  48.0  \n",
       "respiratory_rate     96.0    24.5  20.0  \n",
       "packed_cell_volume   75.0    45.0  37.0  "
      ],
      "text/html": [
       "<div>\n",
       "<style scoped>\n",
       "    .dataframe tbody tr th:only-of-type {\n",
       "        vertical-align: middle;\n",
       "    }\n",
       "\n",
       "    .dataframe tbody tr th {\n",
       "        vertical-align: top;\n",
       "    }\n",
       "\n",
       "    .dataframe thead th {\n",
       "        text-align: right;\n",
       "    }\n",
       "</style>\n",
       "<table border=\"1\" class=\"dataframe\">\n",
       "  <thead>\n",
       "    <tr style=\"text-align: right;\">\n",
       "      <th></th>\n",
       "      <th>count</th>\n",
       "      <th>mean</th>\n",
       "      <th>std</th>\n",
       "      <th>min</th>\n",
       "      <th>25%</th>\n",
       "      <th>50%</th>\n",
       "      <th>75%</th>\n",
       "      <th>max</th>\n",
       "      <th>median</th>\n",
       "      <th>mode</th>\n",
       "    </tr>\n",
       "  </thead>\n",
       "  <tbody>\n",
       "    <tr>\n",
       "      <th>rectal_temp</th>\n",
       "      <td>240.0</td>\n",
       "      <td>38.167917</td>\n",
       "      <td>0.732289</td>\n",
       "      <td>35.4</td>\n",
       "      <td>37.8</td>\n",
       "      <td>38.2</td>\n",
       "      <td>38.5</td>\n",
       "      <td>40.8</td>\n",
       "      <td>38.2</td>\n",
       "      <td>38.0</td>\n",
       "    </tr>\n",
       "    <tr>\n",
       "      <th>pulse</th>\n",
       "      <td>276.0</td>\n",
       "      <td>71.913043</td>\n",
       "      <td>28.630557</td>\n",
       "      <td>30.0</td>\n",
       "      <td>48.0</td>\n",
       "      <td>64.0</td>\n",
       "      <td>88.0</td>\n",
       "      <td>184.0</td>\n",
       "      <td>64.0</td>\n",
       "      <td>48.0</td>\n",
       "    </tr>\n",
       "    <tr>\n",
       "      <th>respiratory_rate</th>\n",
       "      <td>242.0</td>\n",
       "      <td>30.417355</td>\n",
       "      <td>17.642231</td>\n",
       "      <td>8.0</td>\n",
       "      <td>18.5</td>\n",
       "      <td>24.5</td>\n",
       "      <td>36.0</td>\n",
       "      <td>96.0</td>\n",
       "      <td>24.5</td>\n",
       "      <td>20.0</td>\n",
       "    </tr>\n",
       "    <tr>\n",
       "      <th>packed_cell_volume</th>\n",
       "      <td>271.0</td>\n",
       "      <td>46.295203</td>\n",
       "      <td>10.419335</td>\n",
       "      <td>23.0</td>\n",
       "      <td>38.0</td>\n",
       "      <td>45.0</td>\n",
       "      <td>52.0</td>\n",
       "      <td>75.0</td>\n",
       "      <td>45.0</td>\n",
       "      <td>37.0</td>\n",
       "    </tr>\n",
       "  </tbody>\n",
       "</table>\n",
       "</div>"
      ]
     },
     "execution_count": 33,
     "metadata": {},
     "output_type": "execute_result"
    }
   ],
   "execution_count": 33
  },
  {
   "metadata": {},
   "cell_type": "markdown",
   "source": [
    "Средняя температура составила 38.1 градус. Обычно у заболевающих температура не поднимается выше 38.5 \n",
    "Частота пульса сильно колебается от 30 до 184 ударов в минуту. Заболевание напрямую не влияет на частоту сердечных сокращений.\n",
    "Большинство животных дышат с частотой между 18.5 и 36 дыханий в минуту, что может указывать на некоторые отклонения ввиду заболевания.\n",
    "Среднее значение PCV — 46.3, с показателем на 75-м процентиле в 52, что указывает на некоторые аномалии в уровне гидратации или состоянии крови."
   ],
   "id": "29d1b994eb10af56"
  },
  {
   "metadata": {},
   "cell_type": "markdown",
   "source": "## Категориальные",
   "id": "6daa6bc229f2142"
  },
  {
   "metadata": {
    "ExecuteTime": {
     "end_time": "2024-12-18T20:45:20.907190Z",
     "start_time": "2024-12-18T20:45:20.871187Z"
    }
   },
   "cell_type": "code",
   "source": [
    "stats_categorical = {}\n",
    "\n",
    "for column in [\"surgery\", \"age\", \"pain\", \"outcome\"]:\n",
    "    value_counts = subset[column].value_counts()\n",
    "    mode = value_counts.idxmax()\n",
    "    stats_categorical[column] = {\n",
    "        \"most_frequent_value\": mode,\n",
    "        \"frequency\": value_counts[mode],\n",
    "        \"unique_values\": value_counts.index.tolist(),\n",
    "    }\n",
    "\n",
    "stats_categorical_df = pd.DataFrame.from_dict(stats_categorical, orient=\"index\")\n",
    "stats_categorical_df[\"unique_values\"] = stats_categorical_df[\"unique_values\"].apply(lambda x: \", \".join(map(str, x)))\n",
    "stats_categorical_df\n"
   ],
   "id": "546cfac9a5d5146e",
   "outputs": [
    {
     "data": {
      "text/plain": [
       "         most_frequent_value  frequency            unique_values\n",
       "surgery                  1.0        180                 1.0, 2.0\n",
       "age                      1.0        276                     1, 9\n",
       "pain                     3.0         67  3.0, 2.0, 5.0, 4.0, 1.0\n",
       "outcome                  1.0        178            1.0, 2.0, 3.0"
      ],
      "text/html": [
       "<div>\n",
       "<style scoped>\n",
       "    .dataframe tbody tr th:only-of-type {\n",
       "        vertical-align: middle;\n",
       "    }\n",
       "\n",
       "    .dataframe tbody tr th {\n",
       "        vertical-align: top;\n",
       "    }\n",
       "\n",
       "    .dataframe thead th {\n",
       "        text-align: right;\n",
       "    }\n",
       "</style>\n",
       "<table border=\"1\" class=\"dataframe\">\n",
       "  <thead>\n",
       "    <tr style=\"text-align: right;\">\n",
       "      <th></th>\n",
       "      <th>most_frequent_value</th>\n",
       "      <th>frequency</th>\n",
       "      <th>unique_values</th>\n",
       "    </tr>\n",
       "  </thead>\n",
       "  <tbody>\n",
       "    <tr>\n",
       "      <th>surgery</th>\n",
       "      <td>1.0</td>\n",
       "      <td>180</td>\n",
       "      <td>1.0, 2.0</td>\n",
       "    </tr>\n",
       "    <tr>\n",
       "      <th>age</th>\n",
       "      <td>1.0</td>\n",
       "      <td>276</td>\n",
       "      <td>1, 9</td>\n",
       "    </tr>\n",
       "    <tr>\n",
       "      <th>pain</th>\n",
       "      <td>3.0</td>\n",
       "      <td>67</td>\n",
       "      <td>3.0, 2.0, 5.0, 4.0, 1.0</td>\n",
       "    </tr>\n",
       "    <tr>\n",
       "      <th>outcome</th>\n",
       "      <td>1.0</td>\n",
       "      <td>178</td>\n",
       "      <td>1.0, 2.0, 3.0</td>\n",
       "    </tr>\n",
       "  </tbody>\n",
       "</table>\n",
       "</div>"
      ]
     },
     "execution_count": 34,
     "metadata": {},
     "output_type": "execute_result"
    }
   ],
   "execution_count": 34
  },
  {
   "metadata": {},
   "cell_type": "markdown",
   "source": "Основную часть выборки составляют взрослые животные, что соответствует ожиданиям, так как они чаще сталкиваются с коликами. У большинства лошадей наблюдалась умеренная боль, но встречаются и случаи сильной боли, что указывает на более сложные проблемы. Большинство животных выздоровели, это говорит об эффективности лечения, хотя есть и случаи, когда спасти их не удалось.",
   "id": "31a9601010832e2a"
  },
  {
   "metadata": {},
   "cell_type": "markdown",
   "source": "# 2. Работа с выбросами",
   "id": "36ffaa660720f22c"
  },
  {
   "metadata": {
    "ExecuteTime": {
     "end_time": "2024-12-18T20:45:22.373483Z",
     "start_time": "2024-12-18T20:45:21.051053Z"
    }
   },
   "cell_type": "code",
   "source": [
    "import seaborn as sns\n",
    "import matplotlib.pyplot as plt\n",
    "\n",
    "plt.figure(figsize=(15, 10))\n",
    "\n",
    "for i, column in enumerate([\"rectal_temp\", \"pulse\", \"respiratory_rate\", \"packed_cell_volume\"]):\n",
    "    plt.subplot(2, 2, i + 1)\n",
    "    sns.boxplot(data=subset[column], orient=\"h\", color=\"skyblue\")\n",
    "    plt.title(f\"{column} (Выбросы)\")\n",
    "    plt.xlabel(\"Значение\")\n",
    "\n",
    "plt.tight_layout()\n",
    "plt.show()\n"
   ],
   "id": "3178d1cc4f594e7d",
   "outputs": [
    {
     "data": {
      "text/plain": [
       "<Figure size 1500x1000 with 4 Axes>"
      ],
      "image/png": "[encoded data removed]"
     },
     "metadata": {},
     "output_type": "display_data"
    }
   ],
   "execution_count": 35
  },
  {
   "metadata": {},
   "cell_type": "markdown",
   "source": [
    "Что касается ректальной температуры, выбросы могут указывать на лихорадку или гипотермию, что свидетельствует о серьезной инфекции или шоке. Высокий пульс может быть связан с болью, стрессом или даже шоком, в то время как также не исключены ошибки при измерении. Частота дыхания с аномальными значениями может сигнализировать о стрессе, боли или респираторных проблемах. Объем упакованных клеток можно объяснить явлениями дегидратации или анемии.\n",
    "\n",
    "Рассматривая выбросы, стоит подумать о их исключении, если они являются результатом ошибок, чтобы улучшить качество данных. Однако, если выбросы важны для изучения клинических особенностей, их стоит анализировать отдельно. Это значит, что нужно изучить медицинские записи, чтобы подтвердить причины выбросов и понять клинический контекст. Для дальнейших действий необходимо провести более глубокий анализ влияния разных факторов на данные, а также выявить и исправить возможные ошибки в исходной информации. Подходя к анализу комплексно, можно лучше понять значение выбросов в медицинском контексте данных о лошадях."
   ],
   "id": "e2d5532611199728"
  },
  {
   "metadata": {},
   "cell_type": "markdown",
   "source": "# 3. Работа с пропусками",
   "id": "3cbfceefed513f4d"
  },
  {
   "metadata": {
    "ExecuteTime": {
     "end_time": "2024-12-18T20:45:22.483851Z",
     "start_time": "2024-12-18T20:45:22.452587Z"
    }
   },
   "cell_type": "code",
   "source": "subset.isna().sum()",
   "id": "c633c5175c9d10bb",
   "outputs": [
    {
     "data": {
      "text/plain": [
       "rectal_temp           60\n",
       "pulse                 24\n",
       "respiratory_rate      58\n",
       "packed_cell_volume    29\n",
       "surgery                1\n",
       "age                    0\n",
       "pain                  55\n",
       "outcome                1\n",
       "dtype: int64"
      ]
     },
     "execution_count": 36,
     "metadata": {},
     "output_type": "execute_result"
    }
   ],
   "execution_count": 36
  },
  {
   "metadata": {
    "ExecuteTime": {
     "end_time": "2024-12-18T20:45:22.818410Z",
     "start_time": "2024-12-18T20:45:22.787451Z"
    }
   },
   "cell_type": "code",
   "source": [
    "for column in [\"rectal_temp\", \"pulse\", \"respiratory_rate\", \"packed_cell_volume\"]:\n",
    "    subset.loc[:, column] = subset[column].fillna(subset[column].median())\n",
    "\n",
    "for column in [\"surgery\", \"age\", \"pain\", \"outcome\"]:\n",
    "    subset.loc[:, column] = subset[column].fillna(subset[column].mode()[0])\n"
   ],
   "id": "f60b3f6766242ad9",
   "outputs": [],
   "execution_count": 37
  },
  {
   "metadata": {
    "ExecuteTime": {
     "end_time": "2024-12-18T20:45:22.956724Z",
     "start_time": "2024-12-18T20:45:22.925469Z"
    }
   },
   "cell_type": "code",
   "source": "subset.isna().sum()",
   "id": "fa412e1603e5de45",
   "outputs": [
    {
     "data": {
      "text/plain": [
       "rectal_temp           0\n",
       "pulse                 0\n",
       "respiratory_rate      0\n",
       "packed_cell_volume    0\n",
       "surgery               0\n",
       "age                   0\n",
       "pain                  0\n",
       "outcome               0\n",
       "dtype: int64"
      ]
     },
     "execution_count": 38,
     "metadata": {},
     "output_type": "execute_result"
    }
   ],
   "execution_count": 38
  },
  {
   "metadata": {},
   "cell_type": "markdown",
   "source": "Принято решение заменить пропуски в числовых столбцах (\"rectaltemp\", \"pulse\", \"respiratoryrate\", \"packedcellvolume\") медианными значениями. Этот подход выбран, потому что медиана является устойчивой к выбросам, обеспечивая минимальное искажение распределения данных. Для категориальных столбцов (\"surgery\", \"age\", \"pain\", \"outcome\") пропуски заменены на модальные значения (наиболее часто встречающиеся). Это позволяет сохранить распределение категориальных данных, не внося значительных изменений в их частотную структуру. Таким образом, мы обеспечиваем полное отсутствие пропусков в данных, сохраняя при этом их статистические свойства.",
   "id": "ac2938a5742d7f7e"
  }
 ],
 "metadata": {
  "kernelspec": {
   "display_name": "Python 3",
   "language": "python",
   "name": "python3"
  },
  "language_info": {
   "codemirror_mode": {
    "name": "ipython",
    "version": 2
   },
   "file_extension": ".py",
   "mimetype": "text/x-python",
   "name": "python",
   "nbconvert_exporter": "python",
   "pygments_lexer": "ipython2",
   "version": "2.7.6"
  }
 },
 "nbformat": 4,
 "nbformat_minor": 5
}
