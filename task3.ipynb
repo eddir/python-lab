{
 "cells": [
  {
   "metadata": {
    "ExecuteTime": {
     "end_time": "2024-10-01T19:54:12.805837Z",
     "start_time": "2024-10-01T19:54:12.782745Z"
    }
   },
   "cell_type": "code",
   "source": [
    "# Дана переменная, в которой хранится слово из латинских букв. Напишите код, который выводит на экран:\n",
    "# среднюю букву, если число букв в слове нечётное;\n",
    "# две средних буквы, если число букв чётное.\n",
    "\n",
    "word = 'test'\n",
    "\n",
    "if len(word) % 2 == 0:\n",
    "    print(word[len(word) // 2 - 1:len(word) // 2 + 1])\n",
    "else:\n",
    "    print(word[len(word) // 2])"
   ],
   "id": "3fec0eec7a6b958f",
   "outputs": [
    {
     "name": "stdout",
     "output_type": "stream",
     "text": [
      "es\n"
     ]
    }
   ],
   "execution_count": 3
  },
  {
   "metadata": {
    "ExecuteTime": {
     "end_time": "2024-10-01T19:58:21.493373Z",
     "start_time": "2024-10-01T19:58:21.475955Z"
    }
   },
   "cell_type": "code",
   "source": [
    "# Вы делаете MVP (минимально жизнеспособный продукт) dating-сервиса. У вас есть список юношей и девушек.\n",
    "# Выдвигаем гипотезу: лучшие рекомендации получатся, если просто отсортировать имена по алфавиту и познакомить людей с \n",
    "# одинаковыми индексами после сортировки. Но вы не будете никого знакомить, если кто-то может остаться без пары.\n",
    "\n",
    "boys = ['Peter', 'Alex', 'John', 'Arthur', 'Richard']\n",
    "girls = ['Kate', 'Liza', 'Kira', 'Emma', 'Trisha']\n",
    "\n",
    "if len(boys) != len(girls):\n",
    "    print(\"Внимание, кто-то может остаться без пары!\")\n",
    "else:\n",
    "    boys_sorted = sorted(boys)\n",
    "    girls_sorted = sorted(girls)\n",
    "    \n",
    "    for boy, girl in zip(boys_sorted, girls_sorted):\n",
    "        print(f\"{boy} и {girl}\")\n"
   ],
   "id": "50291c14d6e3cb8c",
   "outputs": [
    {
     "name": "stdout",
     "output_type": "stream",
     "text": [
      "Alex и Emma\n",
      "Arthur и Kate\n",
      "John и Kira\n",
      "Peter и Liza\n",
      "Richard и Trisha\n"
     ]
    }
   ],
   "execution_count": 8
  }
 ],
 "metadata": {
  "kernelspec": {
   "display_name": "Python 3",
   "language": "python",
   "name": "python3"
  },
  "language_info": {
   "codemirror_mode": {
    "name": "ipython",
    "version": 2
   },
   "file_extension": ".py",
   "mimetype": "text/x-python",
   "name": "python",
   "nbconvert_exporter": "python",
   "pygments_lexer": "ipython2",
   "version": "2.7.6"
  }
 },
 "nbformat": 4,
 "nbformat_minor": 5
}
